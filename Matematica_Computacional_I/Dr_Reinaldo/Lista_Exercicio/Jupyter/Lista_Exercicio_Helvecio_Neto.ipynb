{
 "cells": [
  {
   "cell_type": "markdown",
   "metadata": {},
   "source": [
    "![LogoLista_Reinaldo](./images/01_logo_lista.png \"Lista Reinaldo\")\n",
    "\n",
    "<b>Mestrando: Helvecio Bezerra Leal Neto </b>\n",
    "\n",
    "<b> 1 - <span style=\"color:blue;\">Simulação de Sinais Estocásticos com N=2$^{12}$ valores de medidas.</span> </b>\n"
   ]
  },
  {
   "cell_type": "markdown",
   "metadata": {},
   "source": [
    "1.1 Utilize o algoritmo powernoise.m e gere os seguintes ruídos 1/$f^\\beta$:\n",
    "\n",
    "S1: $\\beta$=0 (white noise) <br>\n",
    "S2: $\\beta$=1 (pink noise)  <br>\n",
    "S3: $\\beta$=2 (red noise)"
   ]
  },
  {
   "cell_type": "code",
   "execution_count": null,
   "metadata": {},
   "outputs": [],
   "source": [
    "# 1.1 Gerando séries a partir powernoise.m\n",
    "from oct2py import octave\n",
    "import numpy as np\n",
    "\n",
    "octave.addpath('./matlab/')\n",
    "octave.eval(\"whiteNorm = powernoise(0,4096,'normalize')\")\n",
    "octave.eval(\"whiteRand = powernoise(0,4096,'randpower')\")\n",
    "octave.eval(\"pinkNorm = powernoise(1,4096,'normalize')\")\n",
    "octave.eval(\"pinkRand = powernoise(1,4096,'randpower')\")\n",
    "octave.eval(\"redNorm = powernoise(2,4096,'normalize')\")\n",
    "octave.eval(\"redRand = powernoise(2,4096,'randpower')\")\n",
    "\n",
    "# Salvando dados\n",
    "octave.eval(\"dlmwrite ('./data/whiteNorm.csv',whiteNorm)\")\n",
    "octave.eval(\"dlmwrite ('./data/whiteRand.csv',whiteRand)\")\n",
    "octave.eval(\"dlmwrite ('./data/pinkNorm.csv',pinkNorm)\")\n",
    "octave.eval(\"dlmwrite ('./data/pinkRand.csv',pinkRand)\")\n",
    "octave.eval(\"dlmwrite ('./data/redNorm.csv',redNorm)\")\n",
    "octave.eval(\"dlmwrite ('./data/redRand.csv',redRand)\")"
   ]
  },
  {
   "cell_type": "code",
   "execution_count": 76,
   "metadata": {},
   "outputs": [],
   "source": [
    "# Importando dados para Gráficos\n",
    "import pandas as pd\n",
    "import matplotlib.pyplot as plt\n",
    "\n",
    "whiteNormalize = pd.read_csv('./data/whiteNorm.csv')\n",
    "whiteRandpower = pd.read_csv('./data/whiteRand.csv')\n",
    "\n",
    "pinkNormalize = pd.read_csv('./data/pinkNorm.csv')\n",
    "pinkRandpower = pd.read_csv('./data/pinkRand.csv')\n",
    "\n",
    "redNormalize = pd.read_csv('./data/redNorm.csv')\n",
    "redRandpower = pd.read_csv('./data/redRand.csv')"
   ]
  },
  {
   "cell_type": "code",
   "execution_count": 101,
   "metadata": {},
   "outputs": [],
   "source": [
    "# Plotando gráficos\n",
    "#White Noise Normalized\n",
    "plt.figure(figsize=(20,5))\n",
    "whiteNoise01 = plt.plot(whiteNormalize, linewidth=0.5)\n",
    "plt.title('S1: White Noise Normalized')\n",
    "plt.xlabel('Time',fontsize=12)\n",
    "plt.ylabel('Amplitude',fontsize=12)\n",
    "plt.savefig('./images/s1_norm.png')\n",
    "plt.close()\n",
    "\n",
    "#White Noise Random\n",
    "plt.figure(figsize=(20,5))\n",
    "plt.plot(whiteRandpower, linewidth=0.5)\n",
    "plt.title('S1: White Noise Random ')\n",
    "plt.xlabel('Time',fontsize=12)\n",
    "plt.ylabel('Amplitude',fontsize=12)\n",
    "plt.savefig('./images/s1_rand.png')\n",
    "plt.close()\n",
    "\n",
    "#Pink Noise Normalized\n",
    "plt.figure(figsize=(20,5))\n",
    "plt.plot(pinkNormalize, linewidth=0.6)\n",
    "plt.title('S2: Pink Noise Normalized')\n",
    "plt.xlabel('Time',fontsize=12)\n",
    "plt.ylabel('Amplitude',fontsize=12)\n",
    "plt.savefig('./images/s2_norm.png')\n",
    "plt.close()\n",
    "\n",
    "#Pink Noise Random\n",
    "plt.figure(figsize=(20,5))\n",
    "plt.plot(pinkRandpower, linewidth=0.6)\n",
    "plt.title('S2: Pink Noise Random')\n",
    "plt.xlabel('Time',fontsize=12)\n",
    "plt.ylabel('Amplitude',fontsize=12)\n",
    "plt.savefig('./images/s2_rand.png')\n",
    "plt.close()\n",
    "\n",
    "#Red Noise Random\n",
    "plt.figure(figsize=(20,5))\n",
    "plt.plot(redNormalize, linewidth=2)\n",
    "plt.title('S3: Red Noise Normalized')\n",
    "plt.xlabel('Time',fontsize=12)\n",
    "plt.ylabel('Amplitude',fontsize=12)\n",
    "plt.savefig('./images/s3_norm.png')\n",
    "plt.close()\n",
    "\n",
    "#Red Noise Random\n",
    "plt.figure(figsize=(20,5))\n",
    "plt.plot(redRandpower, linewidth=2)\n",
    "plt.title('S3: Red Noise Random')\n",
    "plt.xlabel('Time',fontsize=12)\n",
    "plt.ylabel('Amplitude',fontsize=12)\n",
    "plt.savefig('./images/s3_rand.png')\n",
    "plt.close()"
   ]
  },
  {
   "cell_type": "code",
   "execution_count": 103,
   "metadata": {},
   "outputs": [],
   "source": []
  },
  {
   "cell_type": "code",
   "execution_count": 104,
   "metadata": {},
   "outputs": [],
   "source": [
    "import numpy as np\n",
    "\n",
    "def logisticc_map(n, x_t=0.001, r=4):\n",
    "    S4 = np.repeat(x_t, n)\n",
    "    for i in range(n-1):\n",
    "        S4[i+1] = r * S4[i] * (1-S4[i])\n",
    "        x_t+= x_t\n",
    "    return S4"
   ]
  },
  {
   "cell_type": "code",
   "execution_count": 106,
   "metadata": {},
   "outputs": [
    {
     "data": {
      "text/plain": [
       "array([0.001     , 0.003996  , 0.01592013, ..., 0.98312327, 0.06636762,\n",
       "       0.24785182])"
      ]
     },
     "execution_count": 106,
     "metadata": {},
     "output_type": "execute_result"
    }
   ],
   "source": [
    "logisticc_map(4096)"
   ]
  },
  {
   "cell_type": "code",
   "execution_count": null,
   "metadata": {},
   "outputs": [],
   "source": []
  }
 ],
 "metadata": {
  "kernelspec": {
   "display_name": "Python 3",
   "language": "python",
   "name": "python3"
  },
  "language_info": {
   "codemirror_mode": {
    "name": "ipython",
    "version": 3
   },
   "file_extension": ".py",
   "mimetype": "text/x-python",
   "name": "python",
   "nbconvert_exporter": "python",
   "pygments_lexer": "ipython3",
   "version": "3.7.1"
  }
 },
 "nbformat": 4,
 "nbformat_minor": 2
}
