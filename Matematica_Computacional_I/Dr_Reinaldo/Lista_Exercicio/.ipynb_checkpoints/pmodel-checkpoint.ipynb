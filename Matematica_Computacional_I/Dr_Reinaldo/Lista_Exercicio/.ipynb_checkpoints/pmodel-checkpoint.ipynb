{
 "cells": [
  {
   "cell_type": "code",
   "execution_count": 3,
   "metadata": {},
   "outputs": [],
   "source": [
    "import numpy as np\n",
    "import math as mt\n",
    "import statistics as st\n",
    "\n",
    "def pmodel(noValues, p, slope):\n",
    "    \n",
    "    # Calculate length of time series\n",
    "    noOrders = mt.ceil(mt.log2(noValues))\n",
    "    \n",
    "    #noValuesGenerated = 2**(noOrders)\n",
    "    \n",
    "    # y is the time series generated with the p-model.\n",
    "    y = 1\n",
    "        \n",
    "    for i in range(0,noOrders):\n",
    "        y = next_step_1d(y,p)\n",
    "        \n",
    "    if slope:\n",
    "        fourierCoeff = fractal_spectrum_1d(noValues, slope/2)\n",
    "        meanVal = st.mean(y)\n",
    "        stdy = st.stdev(y)\n",
    "\n",
    "        x = np.fft.ifft(y-meanVal)         #Calculate the Fourier coefficients of the original p-model time series\n",
    "\n",
    "        phase = np.angle(x)                   #Calculate the phases, as these are kept intact, should not be changed by the Fourier filter.\n",
    "        x = fourierCoeff * np.exp(1j*phase)   #Calculate the complex Fourier coefficients with the specified spectral slope, and the phases of the p-model.\n",
    "\n",
    "        x = np.real(np.fft.fft(x))    #Generate the fractionally integrated time series\n",
    "        x = x * stdy / st.stdev(x)\n",
    "        x = x + meanVal\n",
    "    else:\n",
    "        x = y\n",
    "    return(np.round (x,decimals=5))\n"
   ]
  },
  {
   "cell_type": "code",
   "execution_count": 4,
   "metadata": {},
   "outputs": [],
   "source": [
    "def next_step_1d(y,p):\n",
    "    tam = np.size(y)\n",
    "        \n",
    "    np.random.seed(123)\n",
    "    \n",
    "    y2 = np.zeros(tam*2)\n",
    "    sign = np.random.rand(tam)-0.5\n",
    "    sign = sign/np.abs(sign)\n",
    "    \n",
    "    y2 [0:(2*tam-1):2] = y + sign*(1-2*p)*y\n",
    "    y2 [1:(2*tam):2] = y - sign*(1-2*p)*y\n",
    "    \n",
    "    return y2                "
   ]
  },
  {
   "cell_type": "code",
   "execution_count": 5,
   "metadata": {},
   "outputs": [],
   "source": [
    "def fractal_spectrum_1d(noValuesF, slope):\n",
    "\n",
    "    ori_vector_size = noValuesF\n",
    "    ori_half_size = ori_vector_size/2\n",
    "    \n",
    "    a = np.zeros(ori_vector_size+1)\n",
    "    ori_half_size = int(ori_half_size+2)\n",
    "   \n",
    "    for t2 in range(1,ori_half_size):\n",
    "        \n",
    "        index = t2 - 1\n",
    "        t4 = 2 + ori_vector_size - t2\n",
    "        \n",
    "        if ( t4 > ori_half_size):\n",
    "            t4 = t2\n",
    "\n",
    "        if index <= 0:\n",
    "            coeff = 0\n",
    "        else:\n",
    "            coeff = np.power(index, slope) \n",
    "\n",
    "        a[t2] = coeff\n",
    "        a[t4] = coeff\n",
    "        \n",
    "    a[1] = 0\n",
    "        \n",
    "    return a[1:].T"
   ]
  },
  {
   "cell_type": "code",
   "execution_count": 6,
   "metadata": {},
   "outputs": [
    {
     "name": "stdout",
     "output_type": "stream",
     "text": [
      "[0.50282 0.68803 2.12111 0.68803]\n"
     ]
    }
   ],
   "source": [
    "vetor =  pmodel(4,0.72,-0.75)\n",
    "print (vetor)"
   ]
  },
  {
   "cell_type": "code",
   "execution_count": 199,
   "metadata": {},
   "outputs": [],
   "source": [
    "x = np.arange(1024)"
   ]
  },
  {
   "cell_type": "code",
   "execution_count": 8,
   "metadata": {},
   "outputs": [
    {
     "data": {
      "image/png": "[encoded data removed]",
      "text/plain": [
       "<Figure size 432x288 with 1 Axes>"
      ]
     },
     "metadata": {
      "needs_background": "light"
     },
     "output_type": "display_data"
    }
   ],
   "source": [
    "%matplotlib inline\n",
    "import pandas as pd\n",
    "import numpy as np\n",
    "import matplotlib.pyplot as plt\n",
    "\n",
    "plt.plot(vetor)\n",
    "plt.show()"
   ]
  },
  {
   "cell_type": "code",
   "execution_count": 217,
   "metadata": {},
   "outputs": [],
   "source": [
    "def make_integrated_spectrum(self):\n",
    "    cs = np.cumsum(self.power)\n",
    "    cs /= cs[-1]\n",
    "    return IntegratedSpectrum(cs, self.fs)\n",
    "\n",
    "class IntegratedSpectrum(object):\n",
    "    def __init__(self, cs, fs):\n",
    "        self.cs = cs\n",
    "        self.fs = fs\n",
    "        \n",
    "        integ = vetor.make_integrated_spectrum()\n",
    "        integ.plot_power()\n"
   ]
  },
  {
   "cell_type": "code",
   "execution_count": 1,
   "metadata": {},
   "outputs": [
    {
     "ename": "NameError",
     "evalue": "name 'vetor' is not defined",
     "output_type": "error",
     "traceback": [
      "\u001b[0;31m---------------------------------------------------------------------------\u001b[0m",
      "\u001b[0;31mNameError\u001b[0m                                 Traceback (most recent call last)",
      "\u001b[0;32m<ipython-input-1-1947bbdc373c>\u001b[0m in \u001b[0;36m<module>\u001b[0;34m\u001b[0m\n\u001b[1;32m      3\u001b[0m \u001b[0;34m\u001b[0m\u001b[0m\n\u001b[1;32m      4\u001b[0m \u001b[0;31m#Normalizando dados\u001b[0m\u001b[0;34m\u001b[0m\u001b[0;34m\u001b[0m\u001b[0;34m\u001b[0m\u001b[0m\n\u001b[0;32m----> 5\u001b[0;31m \u001b[0my\u001b[0m \u001b[0;34m=\u001b[0m \u001b[0mnormalize\u001b[0m\u001b[0;34m(\u001b[0m\u001b[0mvetor\u001b[0m\u001b[0;34m[\u001b[0m\u001b[0;34m:\u001b[0m\u001b[0;34m,\u001b[0m\u001b[0mnp\u001b[0m\u001b[0;34m.\u001b[0m\u001b[0mnewaxis\u001b[0m\u001b[0;34m]\u001b[0m\u001b[0;34m,\u001b[0m \u001b[0maxis\u001b[0m\u001b[0;34m=\u001b[0m\u001b[0;36m1\u001b[0m\u001b[0;34m)\u001b[0m\u001b[0;34m.\u001b[0m\u001b[0mravel\u001b[0m\u001b[0;34m(\u001b[0m\u001b[0;34m)\u001b[0m\u001b[0;34m\u001b[0m\u001b[0;34m\u001b[0m\u001b[0m\n\u001b[0m\u001b[1;32m      6\u001b[0m \u001b[0;34m\u001b[0m\u001b[0m\n\u001b[1;32m      7\u001b[0m \u001b[0mfig\u001b[0m \u001b[0;34m=\u001b[0m \u001b[0mplt\u001b[0m\u001b[0;34m.\u001b[0m\u001b[0mfigure\u001b[0m\u001b[0;34m(\u001b[0m\u001b[0;34m)\u001b[0m\u001b[0;34m\u001b[0m\u001b[0;34m\u001b[0m\u001b[0m\n",
      "\u001b[0;31mNameError\u001b[0m: name 'vetor' is not defined"
     ]
    }
   ],
   "source": [
    "import thinkplot\n",
    "from sklearn.preprocessing import normalize\n",
    "\n",
    "#Normalizando dados\n",
    "y = normalize(vetor[:,np.newaxis], axis=1).ravel()\n",
    "\n",
    "fig = plt.figure()\n",
    "ax  = fig.add_subplot(111)\n",
    "\n",
    "ax.plot(vetor, linewidth=0.5)\n",
    "\n",
    "thinkplot.config(xlabel='time',\n",
    "                 ylabel='amplitude',\n",
    "                 ylim=[-75, 75],\n",
    "                 legend=False)\n",
    "plt.show()"
   ]
  },
  {
   "cell_type": "code",
   "execution_count": 216,
   "metadata": {},
   "outputs": [
    {
     "ename": "AttributeError",
     "evalue": "'numpy.ndarray' object has no attribute 'make_spectrum'",
     "output_type": "error",
     "traceback": [
      "\u001b[0;31m---------------------------------------------------------------------------\u001b[0m",
      "\u001b[0;31mAttributeError\u001b[0m                            Traceback (most recent call last)",
      "\u001b[0;32m<ipython-input-216-49fa2afb25e4>\u001b[0m in \u001b[0;36m<module>\u001b[0;34m\u001b[0m\n\u001b[0;32m----> 1\u001b[0;31m \u001b[0mvetor\u001b[0m \u001b[0;34m=\u001b[0m \u001b[0mvetor\u001b[0m\u001b[0;34m.\u001b[0m\u001b[0mmake_spectrum\u001b[0m\u001b[0;34m(\u001b[0m\u001b[0;34m)\u001b[0m\u001b[0;34m\u001b[0m\u001b[0;34m\u001b[0m\u001b[0m\n\u001b[0m",
      "\u001b[0;31mAttributeError\u001b[0m: 'numpy.ndarray' object has no attribute 'make_spectrum'"
     ]
    }
   ],
   "source": [
    "vetor = vetor."
   ]
  }
 ],
 "metadata": {
  "kernelspec": {
   "display_name": "Python 3",
   "language": "python",
   "name": "python3"
  },
  "language_info": {
   "codemirror_mode": {
    "name": "ipython",
    "version": 3
   },
   "file_extension": ".py",
   "mimetype": "text/x-python",
   "name": "python",
   "nbconvert_exporter": "python",
   "pygments_lexer": "ipython3",
   "version": "3.7.1"
  }
 },
 "nbformat": 4,
 "nbformat_minor": 2
}
